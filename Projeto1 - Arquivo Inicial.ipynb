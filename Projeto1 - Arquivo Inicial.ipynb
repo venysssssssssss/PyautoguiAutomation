{
 "cells": [
  {
   "cell_type": "markdown",
   "id": "a7447279",
   "metadata": {},
   "source": [
    "# Automação de Sistemas e Processos com Python\n",
    "\n",
    "### Desafio:\n",
    "\n",
    "Para controle de custos, todos os dias, seu chefe pede um relatório com todas as compras de mercadorias da empresa.\n",
    "O seu trabalho, como analista, é enviar um e-mail para ele, assim que começar a trabalhar, com o total gasto, a quantidade de produtos compradas e o preço médio dos produtos.\n",
    "\n",
    "E-mail do seu chefe: para o nosso exercício, coloque um e-mail seu como sendo o e-mail do seu chefe<br>\n",
    "Link de acesso ao sistema da empresa: https://pages.hashtagtreinamentos.com/aula1-intensivao-sistema\n",
    "\n",
    "Para resolver isso, vamos usar o pyautogui, uma biblioteca de automação de comandos do mouse e do teclado"
   ]
  },
  {
   "cell_type": "code",
   "execution_count": 1,
   "id": "ca33d7af",
   "metadata": {},
   "outputs": [],
   "source": [
    "import pyautogui\n",
    "import pandas as pd\n",
    "import pyperclip\n",
    "import time\n",
    "\n",
    "# Passo a passo\n",
    "pyautogui.PAUSE = 1\n",
    "# Passo 1 - Entrar no sistema empresarial\n",
    "pyautogui.press(\"win\")\n",
    "\n",
    "pyautogui.write(\"Opera\")\n",
    "\n",
    "pyautogui.press(\"enter\")\n",
    "\n",
    "time.sleep(3)\n",
    "\n",
    "pyautogui.hotkey(\"ctrl\", \"t\")\n",
    "\n",
    "pyautogui.write(\"https://pages.hashtagtreinamentos.com/aula1-intensivao-sistema\")\n",
    "\n",
    "pyautogui.press(\"enter\")\n",
    "\n",
    "# Passo 2 - Fazer login\n",
    "\n",
    "time.sleep(2)\n",
    "\n",
    "pyautogui.click(x=716, y=342)\n",
    "\n",
    "pyautogui.write(\"meu_login\")\n",
    "\n",
    "time.sleep(2)\n",
    "\n",
    "pyautogui.click(x=620, y=415)\n",
    "\n",
    "pyautogui.write(\"minhasenha\")\n",
    "\n",
    "pyautogui.click(x=677, y=487)\n",
    "\n",
    "time.sleep(1)\n",
    "\n",
    "# Passo 3 - Exportar base de dados\n",
    "\n",
    "time.sleep(2)\n",
    "\n",
    "pyautogui.click(x=373, y=385)\n",
    "\n",
    "time.sleep(1)\n",
    "\n",
    "pyautogui.click(x=1164, y=159)\n",
    "\n",
    "time.sleep(1)\n",
    "\n",
    "pyautogui.click(x=936, y=555)\n",
    "\n",
    "time.sleep(2)\n"
   ]
  },
  {
   "cell_type": "code",
   "execution_count": 2,
   "id": "1f84769b",
   "metadata": {},
   "outputs": [
    {
     "ename": "NameError",
     "evalue": "name 'pd' is not defined",
     "output_type": "error",
     "traceback": [
      "\u001b[1;31m---------------------------------------------------------------------------\u001b[0m",
      "\u001b[1;31mNameError\u001b[0m                                 Traceback (most recent call last)",
      "Cell \u001b[1;32mIn[2], line 1\u001b[0m\n\u001b[1;32m----> 1\u001b[0m tabela \u001b[39m=\u001b[39m pd\u001b[39m.\u001b[39mread_csv(\u001b[39mr\u001b[39m\u001b[39m\"\u001b[39m\u001b[39mD:\u001b[39m\u001b[39m\\\u001b[39m\u001b[39mDonwloads\u001b[39m\u001b[39m\\\u001b[39m\u001b[39mCompras.csv\u001b[39m\u001b[39m\"\u001b[39m, sep\u001b[39m=\u001b[39m\u001b[39m\"\u001b[39m\u001b[39m;\u001b[39m\u001b[39m\"\u001b[39m)\n\u001b[0;32m      2\u001b[0m display(tabela)\n\u001b[0;32m      4\u001b[0m \u001b[39mprint\u001b[39m(\u001b[39m\"\u001b[39m\u001b[39mNúmero de linhas:\u001b[39m\u001b[39m\"\u001b[39m, \u001b[39mlen\u001b[39m(tabela))\n",
      "\u001b[1;31mNameError\u001b[0m: name 'pd' is not defined"
     ]
    }
   ],
   "source": [
    "tabela = pd.read_csv(r\"D:\\Donwloads\\Compras.csv\", sep=\";\")\n",
    "display(tabela)\n",
    "\n",
    "print(\"Número de linhas:\", len(tabela))\n",
    "\n",
    "tabela[\"ValorFinal\"] = pd.to_numeric(tabela[\"ValorFinal\"], errors='coerce')\n",
    "tabela[\"Quantidade\"] = pd.to_numeric(tabela[\"Quantidade\"], errors='coerce')\n",
    "\n",
    "print(\"Valores únicos de ValorFinal:\", tabela[\"ValorFinal\"].unique())\n",
    "print(\"Valores únicos de Quantidade:\", tabela[\"Quantidade\"].unique())\n",
    "\n",
    "total_gasto = tabela[\"ValorFinal\"].sum()\n",
    "quantidade = tabela[\"Quantidade\"].sum()\n",
    "\n",
    "preco_medio = total_gasto / quantidade\n",
    "\n",
    "print(total_gasto)\n",
    "print(quantidade)\n",
    "print(preco_medio)\n"
   ]
  },
  {
   "cell_type": "code",
   "execution_count": 3,
   "id": "03478903",
   "metadata": {},
   "outputs": [
    {
     "ename": "NameError",
     "evalue": "name 'total_gasto' is not defined",
     "output_type": "error",
     "traceback": [
      "\u001b[1;31m---------------------------------------------------------------------------\u001b[0m",
      "\u001b[1;31mNameError\u001b[0m                                 Traceback (most recent call last)",
      "Cell \u001b[1;32mIn[3], line 34\u001b[0m\n\u001b[0;32m     27\u001b[0m pyautogui\u001b[39m.\u001b[39mhotkey(\u001b[39m\"\u001b[39m\u001b[39mctrl\u001b[39m\u001b[39m\"\u001b[39m, \u001b[39m\"\u001b[39m\u001b[39mv\u001b[39m\u001b[39m\"\u001b[39m)\n\u001b[0;32m     29\u001b[0m pyautogui\u001b[39m.\u001b[39mpress(\u001b[39m\"\u001b[39m\u001b[39mtab\u001b[39m\u001b[39m\"\u001b[39m)\u001b[39m#corpo email\u001b[39;00m\n\u001b[0;32m     31\u001b[0m texto \u001b[39m=\u001b[39m \u001b[39mf\u001b[39m\u001b[39m\"\"\"\u001b[39m\n\u001b[0;32m     32\u001b[0m \u001b[39mPrezados, segue o relatório de compras\u001b[39m\n\u001b[0;32m     33\u001b[0m \n\u001b[1;32m---> 34\u001b[0m \u001b[39mTotal gasto: \u001b[39m\u001b[39m{\u001b[39;00mtotal_gasto\u001b[39m}\u001b[39;00m\n\u001b[0;32m     35\u001b[0m \u001b[39mQuantidade de produtos: \u001b[39m\u001b[39m{\u001b[39;00mquantidade\u001b[39m}\u001b[39;00m\n\u001b[0;32m     36\u001b[0m \u001b[39mPreço médio: \u001b[39m\u001b[39m{\u001b[39;00mpreco_medio\u001b[39m}\u001b[39;00m\n\u001b[0;32m     37\u001b[0m \n\u001b[0;32m     38\u001b[0m \u001b[39mQlqr duvida fala seu bot 78\u001b[39m\n\u001b[0;32m     39\u001b[0m \u001b[39m\"\"\"\u001b[39m\n\u001b[0;32m     41\u001b[0m pyperclip\u001b[39m.\u001b[39mcopy(texto)\n\u001b[0;32m     42\u001b[0m pyautogui\u001b[39m.\u001b[39mhotkey(\u001b[39m\"\u001b[39m\u001b[39mctrl\u001b[39m\u001b[39m\"\u001b[39m, \u001b[39m\"\u001b[39m\u001b[39mv\u001b[39m\u001b[39m\"\u001b[39m)\n",
      "\u001b[1;31mNameError\u001b[0m: name 'total_gasto' is not defined"
     ]
    }
   ],
   "source": [
    "# Passo 5 - Enviar um e-mail com as informações necessárias\n",
    "pyautogui.hotkey(\"win\")\n",
    "time.sleep(2)\n",
    "pyautogui.write(\"opera\")\n",
    "pyautogui.press(\"enter\")\n",
    "time.sleep(1)\n",
    "pyautogui.write(\"https://mail.google.com/mail/u/0/?pli=1#inbox\")\n",
    "pyautogui.press(\"enter\")\n",
    "\n",
    "time.sleep(6)\n",
    "\n",
    "#clickar no botão escrever\n",
    "pyautogui.click(x=72, y=171)\n",
    "time.sleep(1)\n",
    "pyautogui.write(\"shablaur7@hotmail.com\")#selecionar contatos\n",
    "pyautogui.press(\"tab\")\n",
    "\n",
    "time.sleep(2)\n",
    "\n",
    "pyautogui.write(\"truks89@outlook.com\")\n",
    "pyautogui.press(\"enter\")\n",
    "time.sleep(1)\n",
    "\n",
    "pyautogui.press(\"tab\")#campo assunto\n",
    "\n",
    "pyperclip.copy(\"Relatório de Vendas\")\n",
    "pyautogui.hotkey(\"ctrl\", \"v\")\n",
    "\n",
    "pyautogui.press(\"tab\")#corpo email\n",
    "\n",
    "texto = f\"\"\"\n",
    "Prezados, segue o relatório de compras\n",
    "\n",
    "Total gasto: {total_gasto}\n",
    "Quantidade de produtos: {quantidade}\n",
    "Preço médio: {preco_medio}\n",
    "\n",
    "Qlqr duvida fala seu bot 78\n",
    "\"\"\"\n",
    "\n",
    "pyperclip.copy(texto)\n",
    "pyautogui.hotkey(\"ctrl\", \"v\")\n",
    "\n",
    "\n",
    "#enviar\n",
    "pyautogui.hotkey(\"ctrl\", \"enter\")\n"
   ]
  },
  {
   "cell_type": "code",
   "execution_count": null,
   "id": "44a369d7",
   "metadata": {},
   "outputs": [],
   "source": [
    "time.sleep(4)\n",
    "print(pyautogui.position())"
   ]
  }
 ],
 "metadata": {
  "kernelspec": {
   "display_name": "Python 3 (ipykernel)",
   "language": "python",
   "name": "python3"
  },
  "language_info": {
   "codemirror_mode": {
    "name": "ipython",
    "version": 3
   },
   "file_extension": ".py",
   "mimetype": "text/x-python",
   "name": "python",
   "nbconvert_exporter": "python",
   "pygments_lexer": "ipython3",
   "version": "3.10.10"
  }
 },
 "nbformat": 4,
 "nbformat_minor": 5
}
